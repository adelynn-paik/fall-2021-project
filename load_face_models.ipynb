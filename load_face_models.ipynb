{
  "nbformat": 4,
  "nbformat_minor": 0,
  "metadata": {
    "colab": {
      "name": "load face models.ipynb",
      "provenance": [],
      "collapsed_sections": []
    },
    "kernelspec": {
      "name": "python3",
      "display_name": "Python 3"
    },
    "language_info": {
      "name": "python"
    },
    "accelerator": "GPU"
  },
  "cells": [
    {
      "cell_type": "markdown",
      "metadata": {
        "id": "srLApfbgJWYW"
      },
      "source": [
        "Versions of tensorflow and keras that worked on my computer"
      ]
    },
    {
      "cell_type": "code",
      "metadata": {
        "id": "yOgtHWZEH9yz"
      },
      "source": [
        "!pip install tensorflow-gpu==2.4.0"
      ],
      "execution_count": null,
      "outputs": []
    },
    {
      "cell_type": "code",
      "metadata": {
        "id": "CtVF9e9KICXc"
      },
      "source": [
        "!pip install tensorflow==2.4.0"
      ],
      "execution_count": null,
      "outputs": []
    },
    {
      "cell_type": "code",
      "metadata": {
        "id": "7bB8np4TID9N"
      },
      "source": [
        "!pip install keras==2.4.0"
      ],
      "execution_count": null,
      "outputs": []
    },
    {
      "cell_type": "markdown",
      "metadata": {
        "id": "0V8knduzJd24"
      },
      "source": [
        "Mount Google Drive, imports"
      ]
    },
    {
      "cell_type": "code",
      "metadata": {
        "id": "LoQq-_qHIFGq",
        "colab": {
          "base_uri": "https://localhost:8080/"
        },
        "outputId": "87a20d1d-5c53-4796-961b-975a2d61c2df"
      },
      "source": [
        "from google.colab import drive\n",
        "drive.mount('/content/gdrive')"
      ],
      "execution_count": null,
      "outputs": [
        {
          "output_type": "stream",
          "name": "stdout",
          "text": [
            "Mounted at /content/gdrive\n"
          ]
        }
      ]
    },
    {
      "cell_type": "code",
      "metadata": {
        "id": "8GBNaO0DIGZL"
      },
      "source": [
        "import os\n",
        "import pandas as pd\n",
        "import numpy as np\n",
        "import matplotlib.pyplot as plt\n",
        "import cv2\n",
        "import seaborn as sn\n",
        "from matplotlib import pyplot as plt\n",
        "\n",
        "from imageio import imread\n",
        "from skimage.transform import resize"
      ],
      "execution_count": null,
      "outputs": []
    },
    {
      "cell_type": "code",
      "metadata": {
        "id": "pL4-TbEGIIW-"
      },
      "source": [
        "!pip install keras_vggface"
      ],
      "execution_count": null,
      "outputs": []
    },
    {
      "cell_type": "code",
      "metadata": {
        "id": "ljsIdrTbIJ-9"
      },
      "source": [
        "!pip install keras_applications"
      ],
      "execution_count": null,
      "outputs": []
    },
    {
      "cell_type": "code",
      "metadata": {
        "id": "5T9_5JreIL2N",
        "colab": {
          "base_uri": "https://localhost:8080/"
        },
        "outputId": "a2595298-383c-4ca9-a253-b1e87247c753"
      },
      "source": [
        "from tensorflow import keras \n",
        "from collections import defaultdict\n",
        "from glob import glob\n",
        "from random import choice, sample\n",
        "from tqdm import tqdm\n",
        "\n",
        "from keras_vggface import utils"
      ],
      "execution_count": null,
      "outputs": [
        {
          "output_type": "stream",
          "name": "stderr",
          "text": [
            "Using TensorFlow backend.\n"
          ]
        }
      ]
    },
    {
      "cell_type": "code",
      "metadata": {
        "id": "h72YcHdHIN0g",
        "colab": {
          "base_uri": "https://localhost:8080/"
        },
        "outputId": "c69c6b58-597b-4862-9fc0-ac6d072aa3a0"
      },
      "source": [
        "import tensorflow.compat.v1 as tf\n",
        "\n",
        "tf.disable_v2_behavior()  #disable for tensorFlow V2\n",
        "gpus = tf.config.experimental.list_physical_devices('GPU')\n",
        "for gpu in gpus:\n",
        "    tf.config.experimental.set_memory_growth(gpu, True)"
      ],
      "execution_count": null,
      "outputs": [
        {
          "output_type": "stream",
          "name": "stdout",
          "text": [
            "WARNING:tensorflow:From /usr/local/lib/python3.7/dist-packages/tensorflow/python/compat/v2_compat.py:96: disable_resource_variables (from tensorflow.python.ops.variable_scope) is deprecated and will be removed in a future version.\n",
            "Instructions for updating:\n",
            "non-resource variables are not supported in the long term\n"
          ]
        }
      ]
    },
    {
      "cell_type": "markdown",
      "metadata": {
        "id": "W2Lk6B2IJhzx"
      },
      "source": [
        "Unzip test images, create test_path, download test data"
      ]
    },
    {
      "cell_type": "code",
      "metadata": {
        "id": "X8DOfRNQIUIl"
      },
      "source": [
        "! unzip \"/content/gdrive/MyDrive/CS271Project/test.zip\""
      ],
      "execution_count": null,
      "outputs": []
    },
    {
      "cell_type": "code",
      "metadata": {
        "id": "8_7Dvd_FIVwv"
      },
      "source": [
        "test_path = \"/content/test/\""
      ],
      "execution_count": null,
      "outputs": []
    },
    {
      "cell_type": "code",
      "metadata": {
        "id": "hcnymp7AIbQL"
      },
      "source": [
        "test_relationships = pd.read_csv(\"/content/gdrive/MyDrive/CS271Project/test_competition.csv\")\n",
        "test_labels = pd.read_csv(\"/content/gdrive/MyDrive/CS271Project/test-labels.csv\")"
      ],
      "execution_count": null,
      "outputs": []
    },
    {
      "cell_type": "markdown",
      "metadata": {
        "id": "zP_6cljZKNih"
      },
      "source": [
        "**Make a dataframe of image pairs and their label**"
      ]
    },
    {
      "cell_type": "code",
      "metadata": {
        "id": "sOjwoYsVIdIX"
      },
      "source": [
        "test_relationships = pd.DataFrame(test_relationships)\n",
        "test_relationships['labels'] = test_labels['labels']"
      ],
      "execution_count": null,
      "outputs": []
    },
    {
      "cell_type": "markdown",
      "metadata": {
        "id": "U5E74_68KY44"
      },
      "source": [
        "Formatting the image pair strings to match the label spreadsheet"
      ]
    },
    {
      "cell_type": "code",
      "metadata": {
        "id": "qcs_MamtIinI"
      },
      "source": [
        "img_pairs = []\n",
        "\n",
        "for i in range(test_relationships.shape[0]):\n",
        "\n",
        "  p1 = test_relationships['p1'][i].split(\"face\")[1].split(\".\")[0]\n",
        "  p2 = test_relationships['p2'][i].split(\"face\")[1].split(\".\")[0]\n",
        "\n",
        "  img_pairs.append('face'+p1.zfill(5)+'.jpg-face'+p2.zfill(5)+'.jpg')"
      ],
      "execution_count": null,
      "outputs": []
    },
    {
      "cell_type": "code",
      "metadata": {
        "id": "BL4InWahIikR"
      },
      "source": [
        "test_relationships['img_pairs'] = img_pairs"
      ],
      "execution_count": null,
      "outputs": []
    },
    {
      "cell_type": "code",
      "metadata": {
        "id": "v3CyScmaCKYw"
      },
      "source": [
        "# drop irrelevant cols\n",
        "\n",
        "test_relationships = test_relationships.drop(columns = ['ptype', 'Unnamed: 4', 'index', 'p1', 'p2'])"
      ],
      "execution_count": null,
      "outputs": []
    },
    {
      "cell_type": "markdown",
      "metadata": {
        "id": "goNb2xJ0KmjI"
      },
      "source": [
        "**Load all 6 models**"
      ]
    },
    {
      "cell_type": "code",
      "metadata": {
        "id": "59VH5C1BIlEK",
        "colab": {
          "base_uri": "https://localhost:8080/"
        },
        "outputId": "1a831280-906d-44a7-a08d-0a05324f5c7e"
      },
      "source": [
        "model1 = keras.models.load_model('/content/gdrive/MyDrive/TrainedFaceModels/vggface1.h5')\n",
        "model2 = keras.models.load_model('/content/gdrive/MyDrive/TrainedFaceModels/vggface2.h5')\n",
        "model3 = keras.models.load_model('/content/gdrive/MyDrive/TrainedFaceModels/vggface3.h5')\n",
        "model4 = keras.models.load_model('/content/gdrive/MyDrive/TrainedFaceModels/vggface4.h5')\n",
        "model5 = keras.models.load_model('/content/gdrive/MyDrive/TrainedFaceModels/vggface5.h5')\n",
        "model6 = keras.models.load_model('/content/gdrive/MyDrive/TrainedFaceModels/vggface6.h5')"
      ],
      "execution_count": null,
      "outputs": [
        {
          "output_type": "stream",
          "name": "stdout",
          "text": [
            "WARNING:tensorflow:From /usr/local/lib/python3.7/dist-packages/tensorflow/python/ops/init_ops.py:97: calling GlorotUniform.__init__ (from tensorflow.python.ops.init_ops) with dtype is deprecated and will be removed in a future version.\n",
            "Instructions for updating:\n",
            "Call initializer instance with the dtype argument instead of passing it to the constructor\n",
            "WARNING:tensorflow:From /usr/local/lib/python3.7/dist-packages/tensorflow/python/ops/init_ops.py:97: calling Zeros.__init__ (from tensorflow.python.ops.init_ops) with dtype is deprecated and will be removed in a future version.\n",
            "Instructions for updating:\n",
            "Call initializer instance with the dtype argument instead of passing it to the constructor\n",
            "WARNING:tensorflow:From /usr/local/lib/python3.7/dist-packages/tensorflow/python/ops/init_ops.py:97: calling Ones.__init__ (from tensorflow.python.ops.init_ops) with dtype is deprecated and will be removed in a future version.\n",
            "Instructions for updating:\n",
            "Call initializer instance with the dtype argument instead of passing it to the constructor\n"
          ]
        }
      ]
    },
    {
      "cell_type": "markdown",
      "metadata": {
        "id": "rYvhP_OQJzaD"
      },
      "source": [
        "Necessary functions for testing"
      ]
    },
    {
      "cell_type": "code",
      "metadata": {
        "id": "3eA_wGZzIlBX"
      },
      "source": [
        "# read images\n",
        "\n",
        "def read_img(path):\n",
        "    img = cv2.imread(path)\n",
        "    img = np.array(img).astype(np.float)\n",
        "    img = cv2.resize(img,(224, 224))  \n",
        "    img = np.reshape(img,[224,224,3])\n",
        "    return utils.preprocess_input(img, version=2)"
      ],
      "execution_count": null,
      "outputs": []
    },
    {
      "cell_type": "code",
      "metadata": {
        "id": "K6bMmc7hIX_N"
      },
      "source": [
        "# create batches of 32\n",
        "\n",
        "def chunker(seq, size=32):\n",
        "    return (seq[pos:pos + size] for pos in range(0, len(seq), size))"
      ],
      "execution_count": null,
      "outputs": []
    },
    {
      "cell_type": "markdown",
      "metadata": {
        "id": "uQtfkUUxJ8wR"
      },
      "source": [
        "**Testing the 6 models individually, results printed below**"
      ]
    },
    {
      "cell_type": "code",
      "metadata": {
        "id": "8x1FivgmIk97",
        "colab": {
          "base_uri": "https://localhost:8080/"
        },
        "outputId": "f70bd47b-dea8-4835-ae2d-d21af981f6da"
      },
      "source": [
        "models = [model1, model2, model3, model4, model5, model6]\n",
        "\n",
        "for i in range(len(models)):\n",
        "\n",
        "  predictions = []\n",
        "\n",
        "  for batch in tqdm(chunker(test_relationships['img_pairs'])):\n",
        "\n",
        "    X1 = [x.split(\"-\")[0] for x in batch]\n",
        "    X1 = np.array([read_img(test_path + x) for x in X1])\n",
        "\n",
        "    X2 = [x.split(\"-\")[1] for x in batch]\n",
        "    X2 = np.array([read_img(test_path + x) for x in X2])\n",
        "\n",
        "    pred = models[i].predict([X1, X2]).ravel().tolist()\n",
        "    predictions += pred\n",
        "\n",
        "  test_relationships['is_related_pred_model_' + str(i+1)] = predictions"
      ],
      "execution_count": null,
      "outputs": [
        {
          "output_type": "stream",
          "name": "stderr",
          "text": [
            "1242it [04:56,  4.18it/s]\n",
            "1242it [04:55,  4.20it/s]\n",
            "1242it [04:56,  4.19it/s]\n",
            "1242it [04:55,  4.20it/s]\n",
            "1242it [04:55,  4.20it/s]\n",
            "1242it [04:56,  4.19it/s]\n"
          ]
        }
      ]
    },
    {
      "cell_type": "markdown",
      "metadata": {
        "id": "pvczIRxcKBCt"
      },
      "source": [
        "**Testing the ensemble model, results printed below**"
      ]
    },
    {
      "cell_type": "code",
      "metadata": {
        "id": "nnA_7lm-Iigp",
        "colab": {
          "base_uri": "https://localhost:8080/"
        },
        "outputId": "1dc0217f-6a2e-4f04-ec32-610af19be1b3"
      },
      "source": [
        "models = [model1, model2, model3, model4, model5, model6]\n",
        "\n",
        "# final list of all predictions\n",
        "pred_final = []\n",
        "\n",
        "for batch in tqdm(chunker(test_relationships['img_pairs'])):\n",
        "\n",
        "  # initialize predictions as list of zeros for element-wise list addition\n",
        "  temp_pred = [0]*32\n",
        "\n",
        "  X1 = [x.split(\"-\")[0] for x in batch]\n",
        "  X1 = np.array([read_img(test_path + x) for x in X1])\n",
        "\n",
        "  X2 = [x.split(\"-\")[1] for x in batch]\n",
        "  X2 = np.array([read_img(test_path + x) for x in X2])\n",
        "\n",
        "  for i in range(len(models)):\n",
        "\n",
        "    pred = models[i].predict([X1, X2]).ravel().tolist()\n",
        "    pred2 = [x/6 for x in pred]\n",
        "    temp_pred = [sum(y) for y in zip(pred2, temp_pred)]\n",
        "\n",
        "  pred_final.extend(temp_pred)\n",
        "\n",
        "test_relationships['is_related_pred_model_ensemble'] = pred_final"
      ],
      "execution_count": null,
      "outputs": [
        {
          "output_type": "stream",
          "name": "stderr",
          "text": [
            "1242it [17:17,  1.20it/s]\n"
          ]
        }
      ]
    },
    {
      "cell_type": "markdown",
      "metadata": {
        "id": "1sfugsRoA-3L"
      },
      "source": [
        "**Save results and display**"
      ]
    },
    {
      "cell_type": "code",
      "metadata": {
        "id": "4XtMkbyS0myI"
      },
      "source": [
        "test_relationships.to_csv('facemodelresults.csv', index=False)"
      ],
      "execution_count": null,
      "outputs": []
    },
    {
      "cell_type": "code",
      "metadata": {
        "id": "yPO3_vT8Ovze"
      },
      "source": [
        "test_results = pd.DataFrame(pd.read_csv('/content/gdrive/MyDrive/CS271Project/facemodelresults.csv'))"
      ],
      "execution_count": null,
      "outputs": []
    },
    {
      "cell_type": "code",
      "metadata": {
        "colab": {
          "base_uri": "https://localhost:8080/",
          "height": 309
        },
        "id": "gqbSHtecPET5",
        "outputId": "5769d62c-1495-4765-ebd2-b001d83038e0"
      },
      "source": [
        "test_results.head()"
      ],
      "execution_count": null,
      "outputs": [
        {
          "output_type": "execute_result",
          "data": {
            "text/html": [
              "<div>\n",
              "<style scoped>\n",
              "    .dataframe tbody tr th:only-of-type {\n",
              "        vertical-align: middle;\n",
              "    }\n",
              "\n",
              "    .dataframe tbody tr th {\n",
              "        vertical-align: top;\n",
              "    }\n",
              "\n",
              "    .dataframe thead th {\n",
              "        text-align: right;\n",
              "    }\n",
              "</style>\n",
              "<table border=\"1\" class=\"dataframe\">\n",
              "  <thead>\n",
              "    <tr style=\"text-align: right;\">\n",
              "      <th></th>\n",
              "      <th>labels</th>\n",
              "      <th>img_pairs</th>\n",
              "      <th>is_related_pred_model_1</th>\n",
              "      <th>is_related_pred_model_2</th>\n",
              "      <th>is_related_pred_model_3</th>\n",
              "      <th>is_related_pred_model_4</th>\n",
              "      <th>is_related_pred_model_5</th>\n",
              "      <th>is_related_pred_model_6</th>\n",
              "      <th>is_related_pred_model_ensemble</th>\n",
              "    </tr>\n",
              "  </thead>\n",
              "  <tbody>\n",
              "    <tr>\n",
              "      <th>0</th>\n",
              "      <td>1</td>\n",
              "      <td>face03118.jpg-face00322.jpg</td>\n",
              "      <td>0.000009</td>\n",
              "      <td>0.001212</td>\n",
              "      <td>1.446880e-08</td>\n",
              "      <td>0.002122</td>\n",
              "      <td>0.003850</td>\n",
              "      <td>0.020845</td>\n",
              "      <td>0.004673</td>\n",
              "    </tr>\n",
              "    <tr>\n",
              "      <th>1</th>\n",
              "      <td>1</td>\n",
              "      <td>face01058.jpg-face00322.jpg</td>\n",
              "      <td>0.000841</td>\n",
              "      <td>0.056212</td>\n",
              "      <td>2.732864e-06</td>\n",
              "      <td>0.021387</td>\n",
              "      <td>0.001012</td>\n",
              "      <td>0.171677</td>\n",
              "      <td>0.041855</td>\n",
              "    </tr>\n",
              "    <tr>\n",
              "      <th>2</th>\n",
              "      <td>1</td>\n",
              "      <td>face01859.jpg-face02895.jpg</td>\n",
              "      <td>0.000460</td>\n",
              "      <td>0.014758</td>\n",
              "      <td>2.954923e-03</td>\n",
              "      <td>0.164864</td>\n",
              "      <td>0.001477</td>\n",
              "      <td>0.050877</td>\n",
              "      <td>0.039232</td>\n",
              "    </tr>\n",
              "    <tr>\n",
              "      <th>3</th>\n",
              "      <td>1</td>\n",
              "      <td>face04234.jpg-face02895.jpg</td>\n",
              "      <td>0.157567</td>\n",
              "      <td>0.048498</td>\n",
              "      <td>6.097140e-01</td>\n",
              "      <td>0.335357</td>\n",
              "      <td>0.006344</td>\n",
              "      <td>0.200489</td>\n",
              "      <td>0.226328</td>\n",
              "    </tr>\n",
              "    <tr>\n",
              "      <th>4</th>\n",
              "      <td>1</td>\n",
              "      <td>face04234.jpg-face00322.jpg</td>\n",
              "      <td>0.008714</td>\n",
              "      <td>0.011143</td>\n",
              "      <td>1.080209e-07</td>\n",
              "      <td>0.008996</td>\n",
              "      <td>0.001809</td>\n",
              "      <td>0.064981</td>\n",
              "      <td>0.015940</td>\n",
              "    </tr>\n",
              "  </tbody>\n",
              "</table>\n",
              "</div>"
            ],
            "text/plain": [
              "   labels  ... is_related_pred_model_ensemble\n",
              "0       1  ...                       0.004673\n",
              "1       1  ...                       0.041855\n",
              "2       1  ...                       0.039232\n",
              "3       1  ...                       0.226328\n",
              "4       1  ...                       0.015940\n",
              "\n",
              "[5 rows x 9 columns]"
            ]
          },
          "metadata": {},
          "execution_count": 72
        }
      ]
    },
    {
      "cell_type": "markdown",
      "metadata": {
        "id": "rCRtz5t3P40j"
      },
      "source": [
        "**Calculate performance of individual and ensemble models**"
      ]
    },
    {
      "cell_type": "code",
      "metadata": {
        "id": "JsaJ8Yg33iK8"
      },
      "source": [
        "# round each prediction to 0 or 1\n",
        "\n",
        "for i in range(1,7):\n",
        "  test_results['is_related_pred_model_' + str(i)] = test_results['is_related_pred_model_' + str(i)].round(0)\n",
        "\n",
        "test_results['is_related_pred_model_ensemble'] = test_results['is_related_pred_model_ensemble'].round(0)"
      ],
      "execution_count": null,
      "outputs": []
    },
    {
      "cell_type": "code",
      "metadata": {
        "colab": {
          "base_uri": "https://localhost:8080/"
        },
        "id": "XaflIDemRU3c",
        "outputId": "da901681-2e94-4cf3-de25-b880035e5091"
      },
      "source": [
        "# models 1-6, individually\n",
        "\n",
        "for i in range(1,7):\n",
        "\n",
        "  error_sum = sum(abs(test_results['is_related_pred_model_' + str(i)] - test_results[\"labels\"]))\n",
        "\n",
        "  print('Accuray of model ' + str(i) + ' is ' + str(round((37943-error_sum)*100/37943,2)) + '%')"
      ],
      "execution_count": null,
      "outputs": [
        {
          "output_type": "stream",
          "name": "stdout",
          "text": [
            "Accuray of model 1 is 47.56%\n",
            "Accuray of model 2 is 47.69%\n",
            "Accuray of model 3 is 47.66%\n",
            "Accuray of model 4 is 47.43%\n",
            "Accuray of model 5 is 47.46%\n",
            "Accuray of model 6 is 47.79%\n"
          ]
        }
      ]
    },
    {
      "cell_type": "code",
      "metadata": {
        "colab": {
          "base_uri": "https://localhost:8080/"
        },
        "id": "iQmTMXNPRUww",
        "outputId": "2e955810-1725-4b0e-ea54-b84908671f6f"
      },
      "source": [
        "# ensemble model\n",
        "\n",
        "error_sum = sum(abs(test_results['is_related_pred_model_ensemble'] - test_results[\"labels\"]))\n",
        "\n",
        "print('Accuray of model ensemble is ' + str(round((37943-error_sum)*100/37943,2)) + '%')"
      ],
      "execution_count": null,
      "outputs": [
        {
          "output_type": "stream",
          "name": "stdout",
          "text": [
            "Accuray of model ensemble is 47.67%\n"
          ]
        }
      ]
    },
    {
      "cell_type": "code",
      "metadata": {
        "id": "sWSlpOoIQSYb"
      },
      "source": [
        ""
      ],
      "execution_count": null,
      "outputs": []
    }
  ]
}