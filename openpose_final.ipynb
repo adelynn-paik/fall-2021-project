{
  "nbformat": 4,
  "nbformat_minor": 0,
  "metadata": {
    "colab": {
      "name": "openpose final.ipynb",
      "provenance": [],
      "collapsed_sections": []
    },
    "kernelspec": {
      "name": "python3",
      "display_name": "Python 3"
    },
    "language_info": {
      "name": "python"
    },
    "accelerator": "GPU"
  },
  "cells": [
    {
      "cell_type": "code",
      "metadata": {
        "colab": {
          "base_uri": "https://localhost:8080/"
        },
        "id": "16oauEbsvOLa",
        "outputId": "37de788e-3308-4039-b3a3-d3d1658e966a"
      },
      "source": [
        "!pip install opencv-python --upgrade"
      ],
      "execution_count": 1,
      "outputs": [
        {
          "output_type": "stream",
          "name": "stdout",
          "text": [
            "Requirement already satisfied: opencv-python in /usr/local/lib/python3.7/dist-packages (4.1.2.30)\n",
            "Collecting opencv-python\n",
            "  Downloading opencv_python-4.5.4.60-cp37-cp37m-manylinux_2_17_x86_64.manylinux2014_x86_64.whl (60.3 MB)\n",
            "\u001b[K     |████████████████████████████████| 60.3 MB 1.2 MB/s \n",
            "\u001b[?25hRequirement already satisfied: numpy>=1.14.5 in /usr/local/lib/python3.7/dist-packages (from opencv-python) (1.19.5)\n",
            "Installing collected packages: opencv-python\n",
            "  Attempting uninstall: opencv-python\n",
            "    Found existing installation: opencv-python 4.1.2.30\n",
            "    Uninstalling opencv-python-4.1.2.30:\n",
            "      Successfully uninstalled opencv-python-4.1.2.30\n",
            "\u001b[31mERROR: pip's dependency resolver does not currently take into account all the packages that are installed. This behaviour is the source of the following dependency conflicts.\n",
            "albumentations 0.1.12 requires imgaug<0.2.7,>=0.2.5, but you have imgaug 0.2.9 which is incompatible.\u001b[0m\n",
            "Successfully installed opencv-python-4.5.4.60\n"
          ]
        }
      ]
    },
    {
      "cell_type": "code",
      "metadata": {
        "colab": {
          "base_uri": "https://localhost:8080/"
        },
        "id": "nYwwAf39vYeg",
        "outputId": "c4b9dead-e418-4a27-a385-17cc29ebb666"
      },
      "source": [
        "!pip install split-folders"
      ],
      "execution_count": 2,
      "outputs": [
        {
          "output_type": "stream",
          "name": "stdout",
          "text": [
            "Collecting split-folders\n",
            "  Downloading split_folders-0.4.3-py3-none-any.whl (7.4 kB)\n",
            "Installing collected packages: split-folders\n",
            "Successfully installed split-folders-0.4.3\n"
          ]
        }
      ]
    },
    {
      "cell_type": "markdown",
      "metadata": {
        "id": "c9lWynQF2nxb"
      },
      "source": [
        "On my computer, tensorflow and keras only worked with these settings"
      ]
    },
    {
      "cell_type": "code",
      "metadata": {
        "id": "qfEzT-o3vaAy"
      },
      "source": [
        "!pip install tensorflow-gpu==2.4.0"
      ],
      "execution_count": null,
      "outputs": []
    },
    {
      "cell_type": "code",
      "metadata": {
        "id": "wslEdqLgvdhO"
      },
      "source": [
        "!pip install tensorflow==2.4.0"
      ],
      "execution_count": null,
      "outputs": []
    },
    {
      "cell_type": "code",
      "metadata": {
        "id": "c9WRnNgQvda5"
      },
      "source": [
        "!pip install keras==2.4.0"
      ],
      "execution_count": null,
      "outputs": []
    },
    {
      "cell_type": "markdown",
      "metadata": {
        "id": "wYyilx8cxS3E"
      },
      "source": [
        "Imports"
      ]
    },
    {
      "cell_type": "code",
      "metadata": {
        "id": "u7YonBhMvgcO"
      },
      "source": [
        "import cv2\n",
        "import numpy as np\n",
        "import pandas as pd\n",
        "import matplotlib.pyplot as plt\n",
        "%matplotlib inline\n",
        "import matplotlib\n",
        "import splitfolders\n",
        "import seaborn as sn\n",
        "from sklearn.metrics import plot_confusion_matrix\n",
        "\n",
        "from random import randint\n",
        "from skimage.util import random_noise\n",
        "\n",
        "from sklearn.neighbors import KNeighborsClassifier\n",
        "from sklearn.svm import SVC"
      ],
      "execution_count": 60,
      "outputs": []
    },
    {
      "cell_type": "code",
      "metadata": {
        "id": "nkNSFDruviag",
        "colab": {
          "base_uri": "https://localhost:8080/"
        },
        "outputId": "de2d1343-5559-4283-ef2d-6d2e10ac74f6"
      },
      "source": [
        "from tensorflow import keras \n",
        "from glob import glob\n",
        "from random import choice, sample\n",
        "from tensorflow.keras.callbacks import ModelCheckpoint, ReduceLROnPlateau, EarlyStopping\n",
        "from tensorflow.keras.models import Model\n",
        "from tensorflow.keras.models import Sequential\n",
        "from tensorflow.keras.optimizers import Adam\n",
        "\n",
        "from keras.layers import LSTM, Dense, Dropout\n",
        "from keras.layers.embeddings import Embedding\n",
        "from keras.preprocessing import sequence\n",
        "from keras.preprocessing.sequence import pad_sequences"
      ],
      "execution_count": 7,
      "outputs": [
        {
          "output_type": "stream",
          "name": "stderr",
          "text": [
            "Using TensorFlow backend.\n"
          ]
        }
      ]
    },
    {
      "cell_type": "code",
      "metadata": {
        "colab": {
          "base_uri": "https://localhost:8080/"
        },
        "id": "zMCDP0pRvkhE",
        "outputId": "57523bdb-e815-4015-e9ce-ef8705ae26d0"
      },
      "source": [
        "import tensorflow.compat.v1 as tf\n",
        "\n",
        "tf.disable_v2_behavior()  #disable for tensorFlow V2\n",
        "gpus = tf.config.experimental.list_physical_devices('GPU')\n",
        "for gpu in gpus:\n",
        "    tf.config.experimental.set_memory_growth(gpu, True)"
      ],
      "execution_count": 8,
      "outputs": [
        {
          "output_type": "stream",
          "name": "stdout",
          "text": [
            "WARNING:tensorflow:From /usr/local/lib/python3.7/dist-packages/tensorflow/python/compat/v2_compat.py:96: disable_resource_variables (from tensorflow.python.ops.variable_scope) is deprecated and will be removed in a future version.\n",
            "Instructions for updating:\n",
            "non-resource variables are not supported in the long term\n"
          ]
        }
      ]
    },
    {
      "cell_type": "markdown",
      "metadata": {
        "id": "b0XheUzKxUmj"
      },
      "source": [
        "Mount Google drive, split data into train/val/test"
      ]
    },
    {
      "cell_type": "code",
      "metadata": {
        "colab": {
          "base_uri": "https://localhost:8080/"
        },
        "id": "3NIbX89Iw0MY",
        "outputId": "8144d6c3-fdc5-4544-a84a-16ce3de8bc0f"
      },
      "source": [
        "from google.colab import drive\n",
        "drive.mount('/content/gdrive')"
      ],
      "execution_count": 9,
      "outputs": [
        {
          "output_type": "stream",
          "name": "stdout",
          "text": [
            "Mounted at /content/gdrive\n"
          ]
        }
      ]
    },
    {
      "cell_type": "markdown",
      "metadata": {
        "id": "G0dlqQfqWjPf"
      },
      "source": [
        "Note: This is the folder of images I used, which includes images from Google and friends' Instagram accounts. I did not feel comfortable sharing my friends' images, so I only submitted a folder of images from Google. Please see 'submission_pose' below to run the split_folders code. I have also saved dataframes of the pose outputs later on in the script, based on the complete set of images."
      ]
    },
    {
      "cell_type": "code",
      "metadata": {
        "id": "klpLE0SLw0GF"
      },
      "source": [
        "!unzip '/content/gdrive/MyDrive/CS271Project/all_pose.zip'"
      ],
      "execution_count": null,
      "outputs": []
    },
    {
      "cell_type": "code",
      "metadata": {
        "colab": {
          "base_uri": "https://localhost:8080/"
        },
        "id": "vOAoEnVnw57i",
        "outputId": "716d2e4b-53ee-4906-a59e-b0d5f25edf0d"
      },
      "source": [
        "splitfolders.ratio('/content/all_pose', output='/content/split_pose', seed=1337,  ratio=(0.8,0.10,0.10)) "
      ],
      "execution_count": null,
      "outputs": [
        {
          "output_type": "stream",
          "name": "stderr",
          "text": [
            "Copying files: 213 files [00:00, 357.78 files/s]\n"
          ]
        }
      ]
    },
    {
      "cell_type": "markdown",
      "metadata": {
        "id": "evYl1nZhW4Vb"
      },
      "source": [
        "'submission_pose' here"
      ]
    },
    {
      "cell_type": "code",
      "metadata": {
        "id": "1wPHAqUnWbuc"
      },
      "source": [
        "!unzip '/content/gdrive/MyDrive/CS271Project/submission_pose.zip'"
      ],
      "execution_count": null,
      "outputs": []
    },
    {
      "cell_type": "code",
      "metadata": {
        "id": "B9-4P3lbW9jG"
      },
      "source": [
        "splitfolders.ratio('/content/submission_pose', output='/content/split_pose', seed=1337,  ratio=(0.8,0.10,0.10)) "
      ],
      "execution_count": null,
      "outputs": []
    },
    {
      "cell_type": "markdown",
      "metadata": {
        "id": "CwCl5htvxYh6"
      },
      "source": [
        "Setting up Openpose and Functions"
      ]
    },
    {
      "cell_type": "code",
      "metadata": {
        "id": "R7gPNHpwxPs_"
      },
      "source": [
        "protoFile = \"/content/gdrive/MyDrive/CS271Project/pose_deploy_linevec.txt\"\n",
        "weightsFile = \"/content/gdrive/MyDrive/CS271Project/pose_iter_440000.caffemodel\"\n",
        "nPoints = 18\n",
        "# COCO Output Format\n",
        "keypointsMapping = ['Nose', 'Neck', 'R-Sho', 'R-Elb', 'R-Wr', 'L-Sho', \n",
        "                    'L-Elb', 'L-Wr', 'R-Hip', 'R-Knee', 'R-Ank', 'L-Hip', \n",
        "                    'L-Knee', 'L-Ank', 'R-Eye', 'L-Eye', 'R-Ear', 'L-Ear']\n",
        "\n",
        "POSE_PAIRS = [[1,2], [1,5], [2,3], [3,4], [5,6], [6,7],\n",
        "              [1,8], [8,9], [9,10], [1,11], [11,12], [12,13],\n",
        "              [1,0], [0,14], [14,16], [0,15], [15,17],\n",
        "              [2,17], [5,16] ]\n",
        "\n",
        "# index of pafs correspoding to the POSE_PAIRS\n",
        "# e.g for POSE_PAIR(1,2), the PAFs are located at indices (31,32) of output, Similarly, (1,5) -> (39,40) and so on.\n",
        "mapIdx = [[31,32], [39,40], [33,34], [35,36], [41,42], [43,44], \n",
        "          [19,20], [21,22], [23,24], [25,26], [27,28], [29,30], \n",
        "          [47,48], [49,50], [53,54], [51,52], [55,56], \n",
        "          [37,38], [45,46]]\n",
        "\n",
        "colors = [ [0,100,255], [0,100,255], [0,255,255], [0,100,255], [0,255,255], [0,100,255],\n",
        "         [0,255,0], [255,200,100], [255,0,255], [0,255,0], [255,200,100], [255,0,255],\n",
        "         [0,0,255], [255,0,0], [200,200,0], [255,0,0], [200,200,0], [0,0,0]]"
      ],
      "execution_count": null,
      "outputs": []
    },
    {
      "cell_type": "code",
      "metadata": {
        "id": "4YdVHonByh_Y"
      },
      "source": [
        "# Find the Keypoints using Non Maximum Suppression on the Confidence Map\n",
        "def getKeypoints(probMap, threshold=0.1):\n",
        "    \n",
        "    mapSmooth = cv2.GaussianBlur(probMap,(3,3),0,0)\n",
        "\n",
        "    mapMask = np.uint8(mapSmooth>threshold)\n",
        "    keypoints = []\n",
        "    \n",
        "    #find the blobs\n",
        "    contours, _ = cv2.findContours(mapMask, cv2.RETR_TREE, cv2.CHAIN_APPROX_SIMPLE)\n",
        "    \n",
        "    #for each blob find the maxima\n",
        "    for cnt in contours:\n",
        "        blobMask = np.zeros(mapMask.shape)\n",
        "        blobMask = cv2.fillConvexPoly(blobMask, cnt, 1)\n",
        "        maskedProbMap = mapSmooth * blobMask\n",
        "        _, maxVal, _, maxLoc = cv2.minMaxLoc(maskedProbMap)\n",
        "        keypoints.append(maxLoc + (probMap[maxLoc[1], maxLoc[0]],))\n",
        "\n",
        "    return keypoints"
      ],
      "execution_count": null,
      "outputs": []
    },
    {
      "cell_type": "code",
      "metadata": {
        "id": "gmWvuvFtykXH"
      },
      "source": [
        "def read_img(path):\n",
        "  img = cv2.imread(path)\n",
        "  frameWidth = img.shape[1]\n",
        "  frameHeight = img.shape[0]\n",
        "\n",
        "  net = cv2.dnn.readNetFromCaffe(protoFile, weightsFile)\n",
        "\n",
        "  # Fix the input Height and get the width according to the Aspect Ratio\n",
        "  inHeight = 368\n",
        "  inWidth = int((inHeight/frameHeight)*frameWidth)\n",
        "\n",
        "  #noise_img = random_noise(img, mode='s&p',amount=0.1)\n",
        "\n",
        "  inpBlob = cv2.dnn.blobFromImage(img, 1.0 / 255, (inWidth, inHeight),\n",
        "                        (0, 0, 0), swapRB=False, crop=False)\n",
        "\n",
        "  net.setInput(inpBlob)\n",
        "  output = net.forward()\n",
        "\n",
        "  return output, frameWidth, frameHeight"
      ],
      "execution_count": null,
      "outputs": []
    },
    {
      "cell_type": "code",
      "metadata": {
        "id": "1eHITEcwy5U8"
      },
      "source": [
        "# Find valid connections between the different joints of a all persons present\n",
        "def getValidPairs(output, frameWidth, frameHeight):\n",
        "  valid_pairs = []\n",
        "  invalid_pairs = []\n",
        "  n_interp_samples = 10\n",
        "  paf_score_th = 0.1\n",
        "  conf_th = 0.7\n",
        "\n",
        "  #new start\n",
        "  detected_keypoints = []\n",
        "  keypoints_list = np.zeros((0,3))\n",
        "  keypoint_id = 0\n",
        "  threshold = 0.1\n",
        "\n",
        "  for part in range(nPoints):\n",
        "      probMap = output[0,part,:,:]\n",
        "      probMap = cv2.resize(probMap, (frameWidth, frameHeight))\n",
        "      keypoints = getKeypoints(probMap, threshold)\n",
        "      keypoints_with_id = []\n",
        "      for i in range(len(keypoints)):\n",
        "          keypoints_with_id.append(keypoints[i] + (keypoint_id,))\n",
        "          keypoints_list = np.vstack([keypoints_list, keypoints[i]])\n",
        "          keypoint_id += 1\n",
        "\n",
        "      detected_keypoints.append(keypoints_with_id)\n",
        "  #new end\n",
        "\n",
        "  # loop for every POSE_PAIR\n",
        "  for k in range(len(mapIdx)):\n",
        "      # A->B constitute a limb\n",
        "      pafA = output[0, mapIdx[k][0], :, :]\n",
        "      pafB = output[0, mapIdx[k][1], :, :]\n",
        "      pafA = cv2.resize(pafA, (frameWidth, frameHeight))\n",
        "      pafB = cv2.resize(pafB, (frameWidth, frameHeight))\n",
        "\n",
        "      # Find the keypoints for the first and second limb\n",
        "      candA = detected_keypoints[POSE_PAIRS[k][0]]\n",
        "      candB = detected_keypoints[POSE_PAIRS[k][1]]\n",
        "      nA = len(candA)\n",
        "      nB = len(candB)\n",
        "\n",
        "      # If keypoints for the joint-pair is detected\n",
        "      # check every joint in candA with every joint in candB \n",
        "      # Calculate the distance vector between the two joints\n",
        "      # Find the PAF values at a set of interpolated points between the joints\n",
        "      # Use the above formula to compute a score to mark the connection valid\n",
        "      \n",
        "      if( nA != 0 and nB != 0):\n",
        "          valid_pair = np.zeros((0,3))\n",
        "          for i in range(nA):\n",
        "              max_j=-1\n",
        "              maxScore = -1\n",
        "              found = 0\n",
        "              for j in range(nB):\n",
        "                  # Find d_ij\n",
        "                  d_ij = np.subtract(candB[j][:2], candA[i][:2])\n",
        "                  norm = np.linalg.norm(d_ij)\n",
        "                  if norm:\n",
        "                      d_ij = d_ij / norm\n",
        "                  else:\n",
        "                      continue\n",
        "                  # Find p(u)\n",
        "                  interp_coord = list(zip(np.linspace(candA[i][0], candB[j][0], num=n_interp_samples),\n",
        "                                          np.linspace(candA[i][1], candB[j][1], num=n_interp_samples)))\n",
        "                  # Find L(p(u))\n",
        "                  paf_interp = []\n",
        "                  for k in range(len(interp_coord)):\n",
        "                      paf_interp.append([pafA[int(round(interp_coord[k][1])), int(round(interp_coord[k][0]))],\n",
        "                                          pafB[int(round(interp_coord[k][1])), int(round(interp_coord[k][0]))] ]) \n",
        "                  # Find E\n",
        "                  paf_scores = np.dot(paf_interp, d_ij)\n",
        "                  avg_paf_score = sum(paf_scores)/len(paf_scores)\n",
        "                  \n",
        "                  # Check if the connection is valid\n",
        "                  # If the fraction of interpolated vectors aligned with PAF is higher then threshold -> Valid Pair  \n",
        "                  if ( len(np.where(paf_scores > paf_score_th)[0]) / n_interp_samples ) > conf_th :\n",
        "                      if avg_paf_score > maxScore:\n",
        "                          max_j = j\n",
        "                          maxScore = avg_paf_score\n",
        "                          found = 1\n",
        "              # Append the connection to the list\n",
        "              if found:            \n",
        "                  valid_pair = np.append(valid_pair, [[candA[i][3], candB[max_j][3], maxScore]], axis=0)\n",
        "\n",
        "          # Append the detected connections to the global list\n",
        "          valid_pairs.append(valid_pair)\n",
        "      else: # If no keypoints are detected\n",
        "          #print(\"No Connection : k = {}\".format(k))\n",
        "          invalid_pairs.append(k)\n",
        "          valid_pairs.append([])\n",
        "  #print(valid_pairs)\n",
        "  return valid_pairs, invalid_pairs, keypoints_list"
      ],
      "execution_count": null,
      "outputs": []
    },
    {
      "cell_type": "code",
      "metadata": {
        "id": "mRSPjmG3y8vc"
      },
      "source": [
        "# This function creates a list of keypoints belonging to each person\n",
        "# For each detected valid pair, it assigns the joint(s) to a person\n",
        "# It finds the person and index at which the joint should be added. This can be done since we have an id for each joint\n",
        "def getPersonwiseKeypoints(valid_pairs, invalid_pairs, keypoints_list):\n",
        "    # the last number in each row is the overall score \n",
        "    personwiseKeypoints = -1 * np.ones((0, 19))\n",
        "\n",
        "    for k in range(len(mapIdx)):\n",
        "        if k not in invalid_pairs:\n",
        "            partAs = valid_pairs[k][:,0]\n",
        "            partBs = valid_pairs[k][:,1]\n",
        "            indexA, indexB = np.array(POSE_PAIRS[k])\n",
        "\n",
        "            for i in range(len(valid_pairs[k])): \n",
        "                found = 0\n",
        "                person_idx = -1\n",
        "                for j in range(len(personwiseKeypoints)):\n",
        "                    if personwiseKeypoints[j][indexA] == partAs[i]:\n",
        "                        person_idx = j\n",
        "                        found = 1\n",
        "                        break\n",
        "\n",
        "                if found:\n",
        "                    personwiseKeypoints[person_idx][indexB] = partBs[i]\n",
        "                    personwiseKeypoints[person_idx][-1] += keypoints_list[partBs[i].astype(int), 2] + valid_pairs[k][i][2]\n",
        "\n",
        "                # if find no partA in the subset, create a new subset\n",
        "                elif not found and k < 17:\n",
        "                    row = -1 * np.ones(19)\n",
        "                    row[indexA] = partAs[i]\n",
        "                    row[indexB] = partBs[i]\n",
        "                    # add the keypoint_scores for the two keypoints and the paf_score \n",
        "                    row[-1] = sum(keypoints_list[valid_pairs[k][i,:2].astype(int), 2]) + valid_pairs[k][i][2]\n",
        "                    personwiseKeypoints = np.vstack([personwiseKeypoints, row])\n",
        "    return personwiseKeypoints"
      ],
      "execution_count": null,
      "outputs": []
    },
    {
      "cell_type": "code",
      "metadata": {
        "id": "G1whTW59y_6l"
      },
      "source": [
        "# This function uses all of the above to output PersonwiseKeypoints given an image path\n",
        "def img_to_keypts(path):\n",
        "  output, frameWidth, frameHeight = read_img(path)\n",
        "  valid_pairs, invalid_pairs, keypoints_list = getValidPairs(output, frameWidth, frameHeight)\n",
        "  \n",
        "  return getPersonwiseKeypoints(valid_pairs, invalid_pairs, keypoints_list)"
      ],
      "execution_count": null,
      "outputs": []
    },
    {
      "cell_type": "markdown",
      "metadata": {
        "id": "wCnsXZgkzMRc"
      },
      "source": [
        "**Transforming the Images into Data**"
      ]
    },
    {
      "cell_type": "code",
      "metadata": {
        "id": "2udmE3_HzUct"
      },
      "source": [
        "yes_train = [x for x in glob('/content/split_pose/train/YES/**.**')]\n",
        "no_train = [x for x in glob('/content/split_pose/train/NO/**.**')]\n",
        "\n",
        "yes_val = [x for x in glob('/content/split_pose/val/YES/**.**')]\n",
        "no_val = [x for x in glob('/content/split_pose/val/NO/**.**')]\n",
        "\n",
        "yes_test = [x for x in glob('/content/split_pose/test/YES/**.**')]\n",
        "no_test = [x for x in glob('/content/split_pose/test/NO/**.**')]"
      ],
      "execution_count": null,
      "outputs": []
    },
    {
      "cell_type": "markdown",
      "metadata": {
        "id": "4eES-KhnXgir"
      },
      "source": [
        "These take a while to run, so I have saved the outputs as dataframes later on."
      ]
    },
    {
      "cell_type": "code",
      "metadata": {
        "colab": {
          "base_uri": "https://localhost:8080/"
        },
        "id": "0dWOPGyczVNU",
        "outputId": "33428570-9252-4596-ccf7-39accf8b787d"
      },
      "source": [
        "keypt_ytrain = np.array([img_to_keypts(x) for x in yes_train])"
      ],
      "execution_count": null,
      "outputs": [
        {
          "output_type": "stream",
          "name": "stderr",
          "text": [
            "/usr/local/lib/python3.7/dist-packages/ipykernel_launcher.py:1: VisibleDeprecationWarning: Creating an ndarray from ragged nested sequences (which is a list-or-tuple of lists-or-tuples-or ndarrays with different lengths or shapes) is deprecated. If you meant to do this, you must specify 'dtype=object' when creating the ndarray\n",
            "  \"\"\"Entry point for launching an IPython kernel.\n"
          ]
        }
      ]
    },
    {
      "cell_type": "code",
      "metadata": {
        "colab": {
          "base_uri": "https://localhost:8080/"
        },
        "id": "wOIYg3zv0fjv",
        "outputId": "a10cba93-994e-4ab7-903c-de9da9aeda1d"
      },
      "source": [
        "keypt_ntrain = np.array([img_to_keypts(x) for x in no_train])"
      ],
      "execution_count": null,
      "outputs": [
        {
          "output_type": "stream",
          "name": "stderr",
          "text": [
            "/usr/local/lib/python3.7/dist-packages/ipykernel_launcher.py:1: VisibleDeprecationWarning: Creating an ndarray from ragged nested sequences (which is a list-or-tuple of lists-or-tuples-or ndarrays with different lengths or shapes) is deprecated. If you meant to do this, you must specify 'dtype=object' when creating the ndarray\n",
            "  \"\"\"Entry point for launching an IPython kernel.\n"
          ]
        }
      ]
    },
    {
      "cell_type": "code",
      "metadata": {
        "colab": {
          "base_uri": "https://localhost:8080/"
        },
        "id": "T2E3hg0m0fhS",
        "outputId": "f81fcf05-c397-4007-8d4a-19811c70ed48"
      },
      "source": [
        "keypt_yval = np.array([img_to_keypts(x) for x in yes_val])"
      ],
      "execution_count": null,
      "outputs": [
        {
          "output_type": "stream",
          "name": "stderr",
          "text": [
            "/usr/local/lib/python3.7/dist-packages/ipykernel_launcher.py:1: VisibleDeprecationWarning: Creating an ndarray from ragged nested sequences (which is a list-or-tuple of lists-or-tuples-or ndarrays with different lengths or shapes) is deprecated. If you meant to do this, you must specify 'dtype=object' when creating the ndarray\n",
            "  \"\"\"Entry point for launching an IPython kernel.\n"
          ]
        }
      ]
    },
    {
      "cell_type": "code",
      "metadata": {
        "colab": {
          "base_uri": "https://localhost:8080/"
        },
        "id": "VHrdOxdM0feS",
        "outputId": "65f9ba02-2259-41dc-d8f5-df94aab25a95"
      },
      "source": [
        "keypt_nval = np.array([img_to_keypts(x) for x in no_val])"
      ],
      "execution_count": null,
      "outputs": [
        {
          "output_type": "stream",
          "name": "stderr",
          "text": [
            "/usr/local/lib/python3.7/dist-packages/ipykernel_launcher.py:1: VisibleDeprecationWarning: Creating an ndarray from ragged nested sequences (which is a list-or-tuple of lists-or-tuples-or ndarrays with different lengths or shapes) is deprecated. If you meant to do this, you must specify 'dtype=object' when creating the ndarray\n",
            "  \"\"\"Entry point for launching an IPython kernel.\n"
          ]
        }
      ]
    },
    {
      "cell_type": "code",
      "metadata": {
        "colab": {
          "base_uri": "https://localhost:8080/"
        },
        "id": "ZeYR6g1L0fZN",
        "outputId": "ca7da7d6-6bf6-4ac6-a505-3f2719f65241"
      },
      "source": [
        "keypt_ytest = np.array([img_to_keypts(x) for x in yes_test])"
      ],
      "execution_count": null,
      "outputs": [
        {
          "output_type": "stream",
          "name": "stderr",
          "text": [
            "/usr/local/lib/python3.7/dist-packages/ipykernel_launcher.py:1: VisibleDeprecationWarning: Creating an ndarray from ragged nested sequences (which is a list-or-tuple of lists-or-tuples-or ndarrays with different lengths or shapes) is deprecated. If you meant to do this, you must specify 'dtype=object' when creating the ndarray\n",
            "  \"\"\"Entry point for launching an IPython kernel.\n"
          ]
        }
      ]
    },
    {
      "cell_type": "code",
      "metadata": {
        "colab": {
          "base_uri": "https://localhost:8080/"
        },
        "id": "DvWDmrbd0tT4",
        "outputId": "4f62910d-6c54-4499-fe94-dcd1b153dacc"
      },
      "source": [
        "keypt_ntest = np.array([img_to_keypts(x) for x in no_test])"
      ],
      "execution_count": null,
      "outputs": [
        {
          "output_type": "stream",
          "name": "stderr",
          "text": [
            "/usr/local/lib/python3.7/dist-packages/ipykernel_launcher.py:1: VisibleDeprecationWarning: Creating an ndarray from ragged nested sequences (which is a list-or-tuple of lists-or-tuples-or ndarrays with different lengths or shapes) is deprecated. If you meant to do this, you must specify 'dtype=object' when creating the ndarray\n",
            "  \"\"\"Entry point for launching an IPython kernel.\n"
          ]
        }
      ]
    },
    {
      "cell_type": "markdown",
      "metadata": {
        "id": "TyU0JJWd6BjV"
      },
      "source": [
        "Zero-pad all arrays and reshape to one row per image"
      ]
    },
    {
      "cell_type": "code",
      "metadata": {
        "id": "rix84dQC6F8u"
      },
      "source": [
        "zero_pad_list = [keypt_ytrain, keypt_ntrain, keypt_yval, keypt_nval, keypt_ytest, keypt_ntest]\n",
        "\n",
        "# find the maximum number of people in an image\n",
        "\n",
        "max_shape = 0\n",
        "\n",
        "for i in range(len(zero_pad_list)):\n",
        "\n",
        "  X_out = zero_pad_list[i]\n",
        "\n",
        "  for j in range(len(X_out)):\n",
        "    temp_shape = X_out[j].shape[0]\n",
        "    if temp_shape > max_shape:\n",
        "      max_shape = temp_shape\n",
        "\n",
        " # add rows of zeros until all same shape\n",
        "for i in range(len(zero_pad_list)):\n",
        "\n",
        "  X_out = zero_pad_list[i]\n",
        "\n",
        "  for k in range(len(X_out)):\n",
        "    if X_out[k].shape[0] < max_shape:\n",
        "      for j in range(max_shape-X_out[k].shape[0]):\n",
        "        X_out[k] = np.append(X_out[k], np.zeros(shape=((max_shape-X_out[k].shape[0]), X_out[k].shape[1])), axis=0)"
      ],
      "execution_count": null,
      "outputs": []
    },
    {
      "cell_type": "code",
      "metadata": {
        "id": "A41KFa6s8-lN"
      },
      "source": [
        "# initialize all the flattened arrays\n",
        "\n",
        "X_ytrain = np.zeros(shape=(len(yes_train), (keypt_ytrain[0].shape[0]*keypt_ytrain[0].shape[1])))\n",
        "X_ntrain = np.zeros(shape=(len(no_train), (keypt_ntrain[0].shape[0]*keypt_ntrain[0].shape[1])))\n",
        "X_yval = np.zeros(shape=(len(yes_val), (keypt_yval[0].shape[0]*keypt_yval[0].shape[1])))\n",
        "X_nval = np.zeros(shape=(len(no_val), (keypt_nval[0].shape[0]*keypt_nval[0].shape[1])))\n",
        "X_ytest = np.zeros(shape=(len(yes_test), (keypt_ytest[0].shape[0]*keypt_ytest[0].shape[1])))\n",
        "X_ntest = np.zeros(shape=(len(no_test), (keypt_ntest[0].shape[0]*keypt_ntest[0].shape[1])))"
      ],
      "execution_count": null,
      "outputs": []
    },
    {
      "cell_type": "code",
      "metadata": {
        "id": "5jw-fWxH90eA"
      },
      "source": [
        "# reshape to each image to one row of data\n",
        "\n",
        "flatten_arrays = [X_ytrain, X_ntrain, X_yval, X_nval, X_ytest, X_ntest]\n",
        "\n",
        "for i in range(len(flatten_arrays)):\n",
        "  for j in range(0, zero_pad_list[i].shape[0]):\n",
        "    flatten_arrays[i][j] = zero_pad_list[i][j].reshape((1, flatten_arrays[i].shape[1]))"
      ],
      "execution_count": null,
      "outputs": []
    },
    {
      "cell_type": "markdown",
      "metadata": {
        "id": "9nyiHyy1AeoE"
      },
      "source": [
        "Create dataframes for each dataset"
      ]
    },
    {
      "cell_type": "code",
      "metadata": {
        "id": "6csnoboDA52c"
      },
      "source": [
        "df_ytrain = pd.DataFrame(X_ytrain)\n",
        "df_ntrain = pd.DataFrame(X_ntrain)\n",
        "df_yval = pd.DataFrame(X_yval)\n",
        "df_nval = pd.DataFrame(X_nval)\n",
        "df_ytest = pd.DataFrame(X_ytest)\n",
        "df_ntest = pd.DataFrame(X_ntest)"
      ],
      "execution_count": null,
      "outputs": []
    },
    {
      "cell_type": "code",
      "metadata": {
        "id": "-0bhrS5xA5xo"
      },
      "source": [
        "# label 1 for images that depict a family, 0 for no\n",
        "\n",
        "df_ytrain['label'] = 1\n",
        "df_ntrain['label'] = 0\n",
        "df_yval['label'] = 1\n",
        "df_nval['label'] = 0\n",
        "df_ytest['label'] = 1\n",
        "df_ntest['label'] = 0"
      ],
      "execution_count": null,
      "outputs": []
    },
    {
      "cell_type": "code",
      "metadata": {
        "id": "87ofnV2cBQlx"
      },
      "source": [
        "# concatenate 'yes' and 'no' for train, val, test\n",
        "\n",
        "df_train = pd.concat([df_ytrain, df_ntrain])\n",
        "df_val = pd.concat([df_yval, df_nval])\n",
        "df_test = pd.concat([df_ytest, df_ntest])"
      ],
      "execution_count": null,
      "outputs": []
    },
    {
      "cell_type": "code",
      "metadata": {
        "id": "GG5Pr4UjDcFe"
      },
      "source": [
        "# replace null values with zeros\n",
        "\n",
        "df_train = df_train.fillna(0)\n",
        "df_val = df_val.fillna(0)\n",
        "df_test = df_test.fillna(0)"
      ],
      "execution_count": null,
      "outputs": []
    },
    {
      "cell_type": "code",
      "metadata": {
        "id": "dNqPkywNfTvi"
      },
      "source": [
        "# save dataframes\n",
        "\n",
        "df_train.to_csv('pose_traindf.csv', index=False)\n",
        "df_val.to_csv('pose_valdf.csv', index=False)\n",
        "df_test.to_csv('pose_testdf.csv', index=False)"
      ],
      "execution_count": null,
      "outputs": []
    },
    {
      "cell_type": "markdown",
      "metadata": {
        "id": "-rOTGOUVgRmT"
      },
      "source": [
        "**Load the saved dataframes**"
      ]
    },
    {
      "cell_type": "code",
      "metadata": {
        "id": "dB4GPYB9fpIb"
      },
      "source": [
        "df_train = pd.DataFrame(pd.read_csv('/content/gdrive/MyDrive/CS271Project/pose_traindf.csv'))\n",
        "df_val = pd.DataFrame(pd.read_csv('/content/gdrive/MyDrive/CS271Project/pose_valdf.csv'))\n",
        "df_test = pd.DataFrame(pd.read_csv('/content/gdrive/MyDrive/CS271Project/pose_testdf.csv'))"
      ],
      "execution_count": 10,
      "outputs": []
    },
    {
      "cell_type": "code",
      "metadata": {
        "id": "Zgx21r8DHUNa"
      },
      "source": [
        "# concatenate train and val for models that don't use validation data\n",
        "\n",
        "df_trainval = pd.concat([df_train, df_val])"
      ],
      "execution_count": 11,
      "outputs": []
    },
    {
      "cell_type": "markdown",
      "metadata": {
        "id": "5Ybup7Vp1r_7"
      },
      "source": [
        "**RNN**"
      ]
    },
    {
      "cell_type": "code",
      "metadata": {
        "id": "bZRyxnw5Pq9W"
      },
      "source": [
        "def gen(df_name, batch_size=16):\n",
        "\n",
        "  while True:\n",
        "\n",
        "    X_out = []\n",
        "    labels = []\n",
        "\n",
        "    for i in range(batch_size):\n",
        "      random_row = randint(0,len(df_name.index)-1)\n",
        "\n",
        "      X_out.append(df_name.drop(columns=['label']).iloc[random_row])\n",
        "      labels.append(df_name.iloc[random_row]['label'])\n",
        "\n",
        "    X_out = np.asarray(X_out, dtype=np.float32)\n",
        "    labels = np.asarray(labels, dtype=np.float32)\n",
        "\n",
        "    yield X_out, labels"
      ],
      "execution_count": 12,
      "outputs": []
    },
    {
      "cell_type": "code",
      "metadata": {
        "colab": {
          "base_uri": "https://localhost:8080/"
        },
        "id": "mJ5nTVpZYXJP",
        "outputId": "f40c5288-b8e6-47b5-c6b7-9fc0cea1783b"
      },
      "source": [
        "# create the model\n",
        "model = Sequential()\n",
        "model.add(Embedding(128, 19, input_length=(len(df_trainval.columns)-1)))\n",
        "model.add(LSTM(128))\n",
        "model.add(Dropout(0.2))\n",
        "model.add(Dense(64, activation='relu'))\n",
        "model.add(Dropout(0.2))\n",
        "model.add(Dense(8, activation='relu'))\n",
        "model.add(Dropout(0.2))\n",
        "model.add(Dense(1, activation='sigmoid'))\n",
        "model.compile(loss='binary_crossentropy', optimizer=Adam(0.0001), metrics=['accuracy'])\n",
        "print(model.summary())"
      ],
      "execution_count": 20,
      "outputs": [
        {
          "output_type": "stream",
          "name": "stdout",
          "text": [
            "WARNING:tensorflow:Layer lstm_1 will not use cuDNN kernel since it doesn't meet the cuDNN kernel criteria. It will use generic GPU kernel as fallback when running on GPU\n",
            "Model: \"sequential_1\"\n",
            "_________________________________________________________________\n",
            "Layer (type)                 Output Shape              Param #   \n",
            "=================================================================\n",
            "embedding_1 (Embedding)      (None, 570, 19)           2432      \n",
            "_________________________________________________________________\n",
            "lstm_1 (LSTM)                (None, 128)               75776     \n",
            "_________________________________________________________________\n",
            "dropout_3 (Dropout)          (None, 128)               0         \n",
            "_________________________________________________________________\n",
            "dense_3 (Dense)              (None, 64)                8256      \n",
            "_________________________________________________________________\n",
            "dropout_4 (Dropout)          (None, 64)                0         \n",
            "_________________________________________________________________\n",
            "dense_4 (Dense)              (None, 8)                 520       \n",
            "_________________________________________________________________\n",
            "dropout_5 (Dropout)          (None, 8)                 0         \n",
            "_________________________________________________________________\n",
            "dense_5 (Dense)              (None, 1)                 9         \n",
            "=================================================================\n",
            "Total params: 86,993\n",
            "Trainable params: 86,993\n",
            "Non-trainable params: 0\n",
            "_________________________________________________________________\n",
            "None\n"
          ]
        }
      ]
    },
    {
      "cell_type": "code",
      "metadata": {
        "id": "1uKYwpdPYWgf"
      },
      "source": [
        "file_path = \"openpose_rnn.h5\"\n",
        "\n",
        "checkpoint = ModelCheckpoint(file_path, monitor='val_acc', verbose=1, save_best_only=True, mode='max')\n",
        "\n",
        "reduce_on_plateau = ReduceLROnPlateau(monitor=\"val_acc\", mode=\"max\", factor=0.1, patience=10, verbose=1)\n",
        "\n",
        "early_stop = EarlyStopping(monitor='loss', patience=10)\n",
        "\n",
        "callbacks_list = [checkpoint, reduce_on_plateau, early_stop]"
      ],
      "execution_count": 21,
      "outputs": []
    },
    {
      "cell_type": "code",
      "metadata": {
        "colab": {
          "base_uri": "https://localhost:8080/"
        },
        "id": "An1t-sF50x2M",
        "outputId": "462dff4c-0b42-4537-d29a-21e805104053"
      },
      "source": [
        "history = model.fit(gen(df_train, batch_size=16), use_multiprocessing=True, \n",
        "          validation_data=gen(df_val, batch_size=16), epochs=25, verbose=2, \n",
        "          workers=4, callbacks=callbacks_list, steps_per_epoch=100, validation_steps=50)"
      ],
      "execution_count": 22,
      "outputs": [
        {
          "output_type": "stream",
          "name": "stdout",
          "text": [
            "WARNING:tensorflow:Using a generator with `use_multiprocessing=True` and multiple workers may duplicate your data. Please consider using the `keras.utils.Sequence` class.\n",
            "WARNING:tensorflow:multiprocessing can interact badly with TensorFlow, causing nondeterministic deadlocks. For high performance data pipelines tf.data is recommended.\n",
            "Epoch 1/25\n",
            "WARNING:tensorflow:Using a generator with `use_multiprocessing=True` and multiple workers may duplicate your data. Please consider using the `keras.utils.Sequence` class.\n",
            "WARNING:tensorflow:multiprocessing can interact badly with TensorFlow, causing nondeterministic deadlocks. For high performance data pipelines tf.data is recommended.\n"
          ]
        },
        {
          "output_type": "stream",
          "name": "stderr",
          "text": [
            "/usr/local/lib/python3.7/dist-packages/tensorflow/python/keras/engine/training.py:2325: UserWarning: `Model.state_updates` will be removed in a future version. This property should not be used in TensorFlow 2.0, as `updates` are applied automatically.\n",
            "  warnings.warn('`Model.state_updates` will be removed in a future version. '\n"
          ]
        },
        {
          "output_type": "stream",
          "name": "stdout",
          "text": [
            "\n",
            "Epoch 00001: val_acc improved from -inf to 0.59375, saving model to openpose_rnn.h5\n",
            "100/100 - 44s - loss: 0.6841 - acc: 0.6019 - val_loss: 0.6805 - val_acc: 0.5938\n",
            "Epoch 2/25\n",
            "WARNING:tensorflow:Using a generator with `use_multiprocessing=True` and multiple workers may duplicate your data. Please consider using the `keras.utils.Sequence` class.\n",
            "WARNING:tensorflow:multiprocessing can interact badly with TensorFlow, causing nondeterministic deadlocks. For high performance data pipelines tf.data is recommended.\n",
            "\n",
            "Epoch 00002: val_acc did not improve from 0.59375\n",
            "100/100 - 42s - loss: 0.6825 - acc: 0.5769 - val_loss: 0.6847 - val_acc: 0.5800\n",
            "Epoch 3/25\n",
            "WARNING:tensorflow:Using a generator with `use_multiprocessing=True` and multiple workers may duplicate your data. Please consider using the `keras.utils.Sequence` class.\n",
            "WARNING:tensorflow:multiprocessing can interact badly with TensorFlow, causing nondeterministic deadlocks. For high performance data pipelines tf.data is recommended.\n",
            "\n",
            "Epoch 00003: val_acc did not improve from 0.59375\n",
            "100/100 - 42s - loss: 0.6776 - acc: 0.5875 - val_loss: 0.6823 - val_acc: 0.5900\n",
            "Epoch 4/25\n",
            "WARNING:tensorflow:Using a generator with `use_multiprocessing=True` and multiple workers may duplicate your data. Please consider using the `keras.utils.Sequence` class.\n",
            "WARNING:tensorflow:multiprocessing can interact badly with TensorFlow, causing nondeterministic deadlocks. For high performance data pipelines tf.data is recommended.\n",
            "\n",
            "Epoch 00004: val_acc did not improve from 0.59375\n",
            "100/100 - 42s - loss: 0.6768 - acc: 0.5969 - val_loss: 0.6804 - val_acc: 0.5913\n",
            "Epoch 5/25\n",
            "WARNING:tensorflow:Using a generator with `use_multiprocessing=True` and multiple workers may duplicate your data. Please consider using the `keras.utils.Sequence` class.\n",
            "WARNING:tensorflow:multiprocessing can interact badly with TensorFlow, causing nondeterministic deadlocks. For high performance data pipelines tf.data is recommended.\n",
            "\n",
            "Epoch 00005: val_acc improved from 0.59375 to 0.60625, saving model to openpose_rnn.h5\n",
            "100/100 - 42s - loss: 0.6845 - acc: 0.5769 - val_loss: 0.6769 - val_acc: 0.6062\n",
            "Epoch 6/25\n",
            "WARNING:tensorflow:Using a generator with `use_multiprocessing=True` and multiple workers may duplicate your data. Please consider using the `keras.utils.Sequence` class.\n",
            "WARNING:tensorflow:multiprocessing can interact badly with TensorFlow, causing nondeterministic deadlocks. For high performance data pipelines tf.data is recommended.\n",
            "\n",
            "Epoch 00006: val_acc did not improve from 0.60625\n",
            "100/100 - 42s - loss: 0.6671 - acc: 0.6206 - val_loss: 0.6821 - val_acc: 0.5913\n",
            "Epoch 7/25\n",
            "WARNING:tensorflow:Using a generator with `use_multiprocessing=True` and multiple workers may duplicate your data. Please consider using the `keras.utils.Sequence` class.\n",
            "WARNING:tensorflow:multiprocessing can interact badly with TensorFlow, causing nondeterministic deadlocks. For high performance data pipelines tf.data is recommended.\n",
            "\n",
            "Epoch 00007: val_acc improved from 0.60625 to 0.61000, saving model to openpose_rnn.h5\n",
            "100/100 - 41s - loss: 0.6689 - acc: 0.6150 - val_loss: 0.6732 - val_acc: 0.6100\n",
            "Epoch 8/25\n",
            "WARNING:tensorflow:Using a generator with `use_multiprocessing=True` and multiple workers may duplicate your data. Please consider using the `keras.utils.Sequence` class.\n",
            "WARNING:tensorflow:multiprocessing can interact badly with TensorFlow, causing nondeterministic deadlocks. For high performance data pipelines tf.data is recommended.\n",
            "\n",
            "Epoch 00008: val_acc did not improve from 0.61000\n",
            "100/100 - 42s - loss: 0.6813 - acc: 0.5856 - val_loss: 0.6795 - val_acc: 0.5962\n",
            "Epoch 9/25\n",
            "WARNING:tensorflow:Using a generator with `use_multiprocessing=True` and multiple workers may duplicate your data. Please consider using the `keras.utils.Sequence` class.\n",
            "WARNING:tensorflow:multiprocessing can interact badly with TensorFlow, causing nondeterministic deadlocks. For high performance data pipelines tf.data is recommended.\n",
            "\n",
            "Epoch 00009: val_acc did not improve from 0.61000\n",
            "100/100 - 42s - loss: 0.6796 - acc: 0.5831 - val_loss: 0.6864 - val_acc: 0.5738\n",
            "Epoch 10/25\n",
            "WARNING:tensorflow:Using a generator with `use_multiprocessing=True` and multiple workers may duplicate your data. Please consider using the `keras.utils.Sequence` class.\n",
            "WARNING:tensorflow:multiprocessing can interact badly with TensorFlow, causing nondeterministic deadlocks. For high performance data pipelines tf.data is recommended.\n",
            "\n",
            "Epoch 00010: val_acc did not improve from 0.61000\n",
            "100/100 - 40s - loss: 0.6787 - acc: 0.5856 - val_loss: 0.6865 - val_acc: 0.5738\n",
            "Epoch 11/25\n",
            "WARNING:tensorflow:Using a generator with `use_multiprocessing=True` and multiple workers may duplicate your data. Please consider using the `keras.utils.Sequence` class.\n",
            "WARNING:tensorflow:multiprocessing can interact badly with TensorFlow, causing nondeterministic deadlocks. For high performance data pipelines tf.data is recommended.\n",
            "\n",
            "Epoch 00011: val_acc improved from 0.61000 to 0.62625, saving model to openpose_rnn.h5\n",
            "100/100 - 41s - loss: 0.6707 - acc: 0.6100 - val_loss: 0.6664 - val_acc: 0.6263\n",
            "Epoch 12/25\n",
            "WARNING:tensorflow:Using a generator with `use_multiprocessing=True` and multiple workers may duplicate your data. Please consider using the `keras.utils.Sequence` class.\n",
            "WARNING:tensorflow:multiprocessing can interact badly with TensorFlow, causing nondeterministic deadlocks. For high performance data pipelines tf.data is recommended.\n",
            "\n",
            "Epoch 00012: val_acc did not improve from 0.62625\n",
            "100/100 - 42s - loss: 0.6786 - acc: 0.5931 - val_loss: 0.6718 - val_acc: 0.6200\n",
            "Epoch 13/25\n",
            "WARNING:tensorflow:Using a generator with `use_multiprocessing=True` and multiple workers may duplicate your data. Please consider using the `keras.utils.Sequence` class.\n",
            "WARNING:tensorflow:multiprocessing can interact badly with TensorFlow, causing nondeterministic deadlocks. For high performance data pipelines tf.data is recommended.\n",
            "\n",
            "Epoch 00013: val_acc did not improve from 0.62625\n",
            "100/100 - 41s - loss: 0.6696 - acc: 0.6081 - val_loss: 0.6730 - val_acc: 0.6125\n",
            "Epoch 14/25\n",
            "WARNING:tensorflow:Using a generator with `use_multiprocessing=True` and multiple workers may duplicate your data. Please consider using the `keras.utils.Sequence` class.\n",
            "WARNING:tensorflow:multiprocessing can interact badly with TensorFlow, causing nondeterministic deadlocks. For high performance data pipelines tf.data is recommended.\n",
            "\n",
            "Epoch 00014: val_acc did not improve from 0.62625\n",
            "100/100 - 43s - loss: 0.6793 - acc: 0.5913 - val_loss: 0.6745 - val_acc: 0.6062\n",
            "Epoch 15/25\n",
            "WARNING:tensorflow:Using a generator with `use_multiprocessing=True` and multiple workers may duplicate your data. Please consider using the `keras.utils.Sequence` class.\n",
            "WARNING:tensorflow:multiprocessing can interact badly with TensorFlow, causing nondeterministic deadlocks. For high performance data pipelines tf.data is recommended.\n",
            "\n",
            "Epoch 00015: val_acc did not improve from 0.62625\n",
            "100/100 - 42s - loss: 0.6773 - acc: 0.5956 - val_loss: 0.6723 - val_acc: 0.6137\n",
            "Epoch 16/25\n",
            "WARNING:tensorflow:Using a generator with `use_multiprocessing=True` and multiple workers may duplicate your data. Please consider using the `keras.utils.Sequence` class.\n",
            "WARNING:tensorflow:multiprocessing can interact badly with TensorFlow, causing nondeterministic deadlocks. For high performance data pipelines tf.data is recommended.\n",
            "\n",
            "Epoch 00016: val_acc did not improve from 0.62625\n",
            "100/100 - 42s - loss: 0.6745 - acc: 0.6019 - val_loss: 0.6752 - val_acc: 0.6075\n"
          ]
        }
      ]
    },
    {
      "cell_type": "code",
      "metadata": {
        "colab": {
          "base_uri": "https://localhost:8080/"
        },
        "id": "inL8ZdGRAYeh",
        "outputId": "0241773b-deb4-47f9-e44b-c65e43481a09"
      },
      "source": [
        "# Final evaluation of the model\n",
        "scores = model.evaluate(df_test.drop(columns=['label']), df_test['label'])\n",
        "print(\"Accuracy: %.2f%%\" % (scores[1]*100))"
      ],
      "execution_count": 23,
      "outputs": [
        {
          "output_type": "stream",
          "name": "stdout",
          "text": [
            "Accuracy: 58.33%\n"
          ]
        }
      ]
    },
    {
      "cell_type": "code",
      "metadata": {
        "colab": {
          "base_uri": "https://localhost:8080/",
          "height": 333
        },
        "id": "8wMbV0BQEIq4",
        "outputId": "d8705f02-ea4d-4b26-cc7a-3bed54afba36"
      },
      "source": [
        "from matplotlib import rcParams, rcParamsDefault\n",
        "rcParams.update(rcParamsDefault)\n",
        "\n",
        "plt.figure(figsize = (6,3))\n",
        "plt.plot(history.history['acc'])\n",
        "plt.plot(history.history['val_acc'])\n",
        "plt.title('Model Accuracy')\n",
        "plt.ylabel('accuracy')\n",
        "plt.xlabel('epoch')\n",
        "plt.legend(['train', 'val'], loc='upper left')\n",
        "plt.show()"
      ],
      "execution_count": 70,
      "outputs": [
        {
          "output_type": "display_data",
          "data": {
            "image/png": "[encoded data removed]",
            "text/plain": [
              "<Figure size 600x300 with 1 Axes>"
            ]
          },
          "metadata": {}
        }
      ]
    },
    {
      "cell_type": "code",
      "metadata": {
        "colab": {
          "base_uri": "https://localhost:8080/",
          "height": 333
        },
        "id": "mCtq1bLbHlwq",
        "outputId": "18a4a807-6165-46f0-dbaf-284eda06bfb0"
      },
      "source": [
        "plt.figure(figsize = (6,3))\n",
        "plt.plot(history.history['loss'])\n",
        "plt.plot(history.history['val_loss'])\n",
        "plt.title('Model Loss')\n",
        "plt.ylabel('loss')\n",
        "plt.xlabel('epoch')\n",
        "plt.legend(['train', 'val'], loc='upper left')\n",
        "plt.show()"
      ],
      "execution_count": 71,
      "outputs": [
        {
          "output_type": "display_data",
          "data": {
            "image/png": "[encoded data removed]",
            "text/plain": [
              "<Figure size 600x300 with 1 Axes>"
            ]
          },
          "metadata": {}
        }
      ]
    },
    {
      "cell_type": "markdown",
      "metadata": {
        "id": "bFkgBrVT1vLw"
      },
      "source": [
        "**Ablation Study: KNN**"
      ]
    },
    {
      "cell_type": "code",
      "metadata": {
        "colab": {
          "base_uri": "https://localhost:8080/"
        },
        "id": "V3hYKHcnKKXR",
        "outputId": "178aba42-16a4-4f2e-dccd-3f85621d2ed9"
      },
      "source": [
        "for i in range(1,7):\n",
        "  knn = KNeighborsClassifier(n_neighbors=i)\n",
        "  knn.fit(df_trainval.drop(columns=['label']), df_trainval['label'])\n",
        "\n",
        "  print('Accuracy of K-NN classifier on training set with ' + str(i) + ' neighbor(s): {:.2f}'\n",
        "     .format(knn.score(df_trainval.drop(columns=['label']), df_trainval['label'])))\n",
        "  \n",
        "  print('Accuracy of K-NN classifier on test set with ' + str(i) + ' neighbor(s): {:.2f}'\n",
        "     .format(knn.score(df_test.drop(columns=['label']), df_test['label'])))"
      ],
      "execution_count": 26,
      "outputs": [
        {
          "output_type": "stream",
          "name": "stdout",
          "text": [
            "Accuracy of K-NN classifier on training set with 1 neighbor(s): 1.00\n",
            "Accuracy of K-NN classifier on test set with 1 neighbor(s): 0.50\n",
            "Accuracy of K-NN classifier on training set with 2 neighbor(s): 0.84\n",
            "Accuracy of K-NN classifier on test set with 2 neighbor(s): 0.50\n",
            "Accuracy of K-NN classifier on training set with 3 neighbor(s): 0.83\n",
            "Accuracy of K-NN classifier on test set with 3 neighbor(s): 0.46\n",
            "Accuracy of K-NN classifier on training set with 4 neighbor(s): 0.79\n",
            "Accuracy of K-NN classifier on test set with 4 neighbor(s): 0.42\n",
            "Accuracy of K-NN classifier on training set with 5 neighbor(s): 0.77\n",
            "Accuracy of K-NN classifier on test set with 5 neighbor(s): 0.42\n",
            "Accuracy of K-NN classifier on training set with 6 neighbor(s): 0.76\n",
            "Accuracy of K-NN classifier on test set with 6 neighbor(s): 0.42\n"
          ]
        }
      ]
    },
    {
      "cell_type": "code",
      "metadata": {
        "id": "f-junx7cANeD"
      },
      "source": [
        "# 2 neighbors was best\n",
        "\n",
        "knn2 = KNeighborsClassifier(n_neighbors=2)\n",
        "knn2.fit(df_trainval.drop(columns=['label']), df_trainval['label'])\n",
        "\n",
        "# get predictions\n",
        "predicted = knn2.predict(df_test.drop(columns=['label']))"
      ],
      "execution_count": 27,
      "outputs": []
    },
    {
      "cell_type": "code",
      "metadata": {
        "id": "hPi6wiTaGIid",
        "colab": {
          "base_uri": "https://localhost:8080/",
          "height": 348
        },
        "outputId": "da61eec0-c9fd-40f7-fae2-9af23ff2354b"
      },
      "source": [
        "# confusion matrix for KNN test results\n",
        "\n",
        "confusion_matrix = pd.crosstab(df_test['label'], predicted, rownames=['Actual'], colnames=['Predicted'])\n",
        "sn.set(rc={'figure.figsize':(6,4)})\n",
        "sn.set(font_scale=2)\n",
        "sn.heatmap(confusion_matrix, annot=True).set_title(\"KNN Test Results\")"
      ],
      "execution_count": 31,
      "outputs": [
        {
          "output_type": "execute_result",
          "data": {
            "text/plain": [
              "Text(0.5, 1.0, 'KNN Test Results')"
            ]
          },
          "metadata": {},
          "execution_count": 31
        },
        {
          "output_type": "display_data",
          "data": {
            "image/png": "[encoded data removed]",
            "text/plain": [
              "<Figure size 432x288 with 2 Axes>"
            ]
          },
          "metadata": {}
        }
      ]
    },
    {
      "cell_type": "markdown",
      "metadata": {
        "id": "PLGG6hhfAKTF"
      },
      "source": [
        "**Ablation Study: SVM**"
      ]
    },
    {
      "cell_type": "code",
      "metadata": {
        "colab": {
          "base_uri": "https://localhost:8080/"
        },
        "id": "b7jhxdP0FPMh",
        "outputId": "07a53c72-77d8-4fec-fe25-4c8967d95993"
      },
      "source": [
        "# linear kernel\n",
        "\n",
        "svm1 = SVC(kernel='linear')\n",
        "svm1.fit(df_trainval.drop(columns=['label']), df_trainval['label'])\n",
        "\n",
        "print('Accuracy of SVM classifier on training set: {:.2f}'\n",
        "     .format(svm1.score(df_trainval.drop(columns=['label']), df_trainval['label'])))\n",
        "\n",
        "print('Accuracy of SVM classifier on test set: {:.2f}'\n",
        "     .format(svm1.score(df_test.drop(columns=['label']), df_test['label'])))"
      ],
      "execution_count": 39,
      "outputs": [
        {
          "output_type": "stream",
          "name": "stdout",
          "text": [
            "Accuracy of SVM classifier on training set: 0.99\n",
            "Accuracy of SVM classifier on test set: 0.62\n"
          ]
        }
      ]
    },
    {
      "cell_type": "code",
      "metadata": {
        "colab": {
          "base_uri": "https://localhost:8080/"
        },
        "id": "6EPiBzg-KLLT",
        "outputId": "cd6e3111-edbc-4632-f57f-d05d1ee1d6ea"
      },
      "source": [
        "# poly kernel\n",
        "\n",
        "svm2 = SVC(kernel='poly')\n",
        "svm2.fit(df_trainval.drop(columns=['label']), df_trainval['label'])\n",
        "\n",
        "print('Accuracy of SVM classifier on training set: {:.2f}'\n",
        "     .format(svm2.score(df_trainval.drop(columns=['label']), df_trainval['label'])))\n",
        "\n",
        "print('Accuracy of SVM classifier on test set: {:.2f}'\n",
        "     .format(svm2.score(df_test.drop(columns=['label']), df_test['label'])))"
      ],
      "execution_count": 40,
      "outputs": [
        {
          "output_type": "stream",
          "name": "stdout",
          "text": [
            "Accuracy of SVM classifier on training set: 0.68\n",
            "Accuracy of SVM classifier on test set: 0.58\n"
          ]
        }
      ]
    },
    {
      "cell_type": "code",
      "metadata": {
        "colab": {
          "base_uri": "https://localhost:8080/"
        },
        "id": "SOaJg1ykKSKL",
        "outputId": "bf723bf1-c552-4766-8106-11009b048cfd"
      },
      "source": [
        "# sigmoid kernel\n",
        "\n",
        "svm3 = SVC(kernel='sigmoid')\n",
        "svm3.fit(df_trainval.drop(columns=['label']), df_trainval['label'])\n",
        "\n",
        "print('Accuracy of SVM classifier on training set: {:.2f}'\n",
        "     .format(svm3.score(df_trainval.drop(columns=['label']), df_trainval['label'])))\n",
        "\n",
        "print('Accuracy of SVM classifier on test set: {:.2f}'\n",
        "     .format(svm3.score(df_test.drop(columns=['label']), df_test['label'])))"
      ],
      "execution_count": 41,
      "outputs": [
        {
          "output_type": "stream",
          "name": "stdout",
          "text": [
            "Accuracy of SVM classifier on training set: 0.61\n",
            "Accuracy of SVM classifier on test set: 0.62\n"
          ]
        }
      ]
    },
    {
      "cell_type": "code",
      "metadata": {
        "colab": {
          "base_uri": "https://localhost:8080/",
          "height": 385
        },
        "id": "LgpwikeTKw07",
        "outputId": "7f819d41-2199-48c3-896d-6739e5f2f6c6"
      },
      "source": [
        "# linear kernel was best\n",
        "\n",
        "matrix = plot_confusion_matrix(svm1, df_test.drop(columns=['label']), df_test['label'])\n",
        "plt.title('SVM Test Results')\n",
        "plt.rcParams.update({'font.size': 20})\n",
        "plt.show(matrix)\n",
        "plt.show()"
      ],
      "execution_count": 56,
      "outputs": [
        {
          "output_type": "stream",
          "name": "stderr",
          "text": [
            "/usr/local/lib/python3.7/dist-packages/sklearn/utils/deprecation.py:87: FutureWarning: Function plot_confusion_matrix is deprecated; Function `plot_confusion_matrix` is deprecated in 1.0 and will be removed in 1.2. Use one of the class methods: ConfusionMatrixDisplay.from_predictions or ConfusionMatrixDisplay.from_estimator.\n",
            "  warnings.warn(msg, category=FutureWarning)\n"
          ]
        },
        {
          "output_type": "display_data",
          "data": {
            "image/png": "[encoded data removed]",
            "text/plain": [
              "<Figure size 432x288 with 2 Axes>"
            ]
          },
          "metadata": {
            "needs_background": "light"
          }
        }
      ]
    },
    {
      "cell_type": "code",
      "metadata": {
        "id": "V0RPM4IyJd5k"
      },
      "source": [
        ""
      ],
      "execution_count": null,
      "outputs": []
    }
  ]
}